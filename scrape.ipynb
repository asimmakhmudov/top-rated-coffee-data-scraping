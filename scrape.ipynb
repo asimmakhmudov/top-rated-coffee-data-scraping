{
 "cells": [
  {
   "cell_type": "code",
   "execution_count": 4,
   "metadata": {},
   "outputs": [],
   "source": [
    "import requests\n",
    "from bs4 import BeautifulSoup\n",
    "import pandas as pd\n",
    "import time"
   ]
  },
  {
   "cell_type": "code",
   "execution_count": 2,
   "metadata": {},
   "outputs": [],
   "source": [
    "base_url=\"https://www.coffeereview.com\"\n",
    "review_url = base_url + \"/highest-rated-coffees/page/{}/\""
   ]
  },
  {
   "cell_type": "code",
   "execution_count": 3,
   "metadata": {},
   "outputs": [],
   "source": [
    "links = []\n",
    "for page in range(1,123):\n",
    "    listing_url = review_url.format(page)\n",
    "    try:\n",
    "        response = requests.get(listing_url, timeout=10)\n",
    "        response.raise_for_status()\n",
    "        soup = BeautifulSoup(response.content, \"html.parser\")\n",
    "        for a in soup.select('a[title^=\"Permanent Link To\"]'):\n",
    "            detail_url = a[\"href\"]\n",
    "            if detail_url not in links:\n",
    "                links.append(detail_url)\n",
    "        time.sleep(1)\n",
    "    except Exception as e:\n",
    "        print(f\"Error on page {page}: {e}\")\n",
    "        continue\n"
   ]
  },
  {
   "cell_type": "code",
   "execution_count": 5,
   "metadata": {},
   "outputs": [
    {
     "data": {
      "text/plain": [
       "2217"
      ]
     },
     "execution_count": 5,
     "metadata": {},
     "output_type": "execute_result"
    }
   ],
   "source": [
    "len(links)"
   ]
  },
  {
   "cell_type": "code",
   "execution_count": null,
   "metadata": {},
   "outputs": [],
   "source": [
    "def parse_review(url):\n",
    "    try:\n",
    "        response = requests.get(url, timeout=10)\n",
    "        response.raise_for_status()\n",
    "        soup = BeautifulSoup(response.content, \"html.parser\")\n",
    "\n",
    "        coffee_name = soup.find(\"h1\").text.strip()\n",
    "\n",
    "        score = soup.find(\"span\", class_=\"review-template-rating\").text.strip()\n",
    "\n",
    "        table = soup.find(\"table\", class_=\"review-template-table\")\n",
    "        rows = table.find_all(\"tr\")\n",
    "        data = { \"coffee_name\": coffee_name, \"total_score\": score }\n",
    "\n",
    "        for row in rows:\n",
    "            cols = row.find_all(\"td\")\n",
    "            if len(cols) == 2:\n",
    "                label = cols[0].text.strip().replace(\":\", \"\").lower().replace(\" \", \"_\")\n",
    "                value = cols[1].text.strip()\n",
    "                data[label] = value\n",
    "        return data\n",
    "    except Exception as e:\n",
    "        print(f\"Error parsing {url}: {e}\")\n",
    "        return None"
   ]
  },
  {
   "cell_type": "code",
   "execution_count": 7,
   "metadata": {},
   "outputs": [],
   "source": [
    "all_reviews = []\n",
    "for i, url in enumerate(links):\n",
    "    review_data = parse_review(url)\n",
    "    if review_data:\n",
    "        all_reviews.append(review_data)\n",
    "    time.sleep(1)"
   ]
  },
  {
   "cell_type": "code",
   "execution_count": 9,
   "metadata": {},
   "outputs": [],
   "source": [
    "df = pd.DataFrame(all_reviews)\n",
    "df.to_csv(\"top-rated-coffee.csv\", index=False)"
   ]
  }
 ],
 "metadata": {
  "kernelspec": {
   "display_name": "Python 3",
   "language": "python",
   "name": "python3"
  },
  "language_info": {
   "codemirror_mode": {
    "name": "ipython",
    "version": 3
   },
   "file_extension": ".py",
   "mimetype": "text/x-python",
   "name": "python",
   "nbconvert_exporter": "python",
   "pygments_lexer": "ipython3",
   "version": "3.10.17"
  }
 },
 "nbformat": 4,
 "nbformat_minor": 2
}
